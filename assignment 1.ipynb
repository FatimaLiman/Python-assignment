{
 "cells": [
  {
   "cell_type": "markdown",
   "id": "074301a5-aba8-4089-981c-32733132f58a",
   "metadata": {},
   "source": [
    "Creating an empty list, importing the random package, then generating 50 random values betweeen the range of 1 to 100"
   ]
  },
  {
   "cell_type": "code",
   "execution_count": 63,
   "id": "460f816b-ed45-4d87-b960-10cf8d71b497",
   "metadata": {},
   "outputs": [],
   "source": [
    "l =[]\n",
    "import random\n",
    "l = [random.randint(1, 100) for _ in range(50)]"
   ]
  },
  {
   "cell_type": "markdown",
   "id": "f5e1b5dd-32be-4ccb-89c0-d70e4df83027",
   "metadata": {},
   "source": [
    "Printing l"
   ]
  },
  {
   "cell_type": "code",
   "execution_count": 15,
   "id": "84295e26-0c3f-4108-bca3-8a8b339f581a",
   "metadata": {},
   "outputs": [
    {
     "data": {
      "text/plain": [
       "[93,\n",
       " 95,\n",
       " 7,\n",
       " 50,\n",
       " 36,\n",
       " 16,\n",
       " 92,\n",
       " 33,\n",
       " 25,\n",
       " 92,\n",
       " 55,\n",
       " 19,\n",
       " 42,\n",
       " 16,\n",
       " 87,\n",
       " 48,\n",
       " 48,\n",
       " 66,\n",
       " 50,\n",
       " 63,\n",
       " 92,\n",
       " 81,\n",
       " 31,\n",
       " 56,\n",
       " 37,\n",
       " 15,\n",
       " 97,\n",
       " 5,\n",
       " 36,\n",
       " 47,\n",
       " 61,\n",
       " 17,\n",
       " 64,\n",
       " 39,\n",
       " 96,\n",
       " 21,\n",
       " 62,\n",
       " 22,\n",
       " 57,\n",
       " 11,\n",
       " 78,\n",
       " 9,\n",
       " 94,\n",
       " 11,\n",
       " 48,\n",
       " 78,\n",
       " 96,\n",
       " 2,\n",
       " 15,\n",
       " 37]"
      ]
     },
     "execution_count": 15,
     "metadata": {},
     "output_type": "execute_result"
    }
   ],
   "source": [
    "l"
   ]
  },
  {
   "cell_type": "markdown",
   "id": "bc789a3e-f9f9-4ca1-9b43-5a08b6c8d835",
   "metadata": {},
   "source": [
    "Calculating to check if a random number is even or add"
   ]
  },
  {
   "cell_type": "code",
   "execution_count": 29,
   "id": "fd7c417f-8c5a-436f-82d0-c64133573cd5",
   "metadata": {},
   "outputs": [
    {
     "name": "stdout",
     "output_type": "stream",
     "text": [
      "Even numbers; [50, 36, 16, 92, 92, 42, 16, 48, 48, 66, 50, 92, 56, 36, 64, 96, 62, 22, 78, 94, 48, 78, 96, 2]\n",
      "Odd numbers; [93, 95, 7, 33, 25, 55, 19, 87, 63, 81, 31, 37, 15, 97, 5, 47, 61, 17, 39, 21, 57, 11, 9, 11, 15, 37]\n"
     ]
    }
   ],
   "source": [
    "even =[]\n",
    "odd=[]\n",
    "for i in l:\n",
    "    if (i%2==0):\n",
    "       even.append(i)\n",
    "    else:\n",
    "       odd.append(i)\n",
    "print('Even numbers;' , even)\n",
    "print('Odd numbers;', odd)\n"
   ]
  },
  {
   "cell_type": "markdown",
   "id": "63c9e80b-5d17-402d-b6c3-10e0b366561c",
   "metadata": {},
   "source": [
    "Importing numpy and converting the even list to an array"
   ]
  },
  {
   "cell_type": "code",
   "execution_count": 57,
   "id": "c3b33d6a-5752-41c8-bff6-d6749a265c8c",
   "metadata": {},
   "outputs": [
    {
     "data": {
      "text/plain": [
       "array([50, 36, 16, 92, 92, 42, 16, 48, 48, 66, 50, 92, 56, 36, 64, 96, 62,\n",
       "       22, 78, 94, 48, 78, 96,  2])"
      ]
     },
     "execution_count": 57,
     "metadata": {},
     "output_type": "execute_result"
    }
   ],
   "source": [
    "import numpy as np\n",
    "even_array=np.array(even)\n",
    "even_array"
   ]
  },
  {
   "cell_type": "markdown",
   "id": "8a1cb6a5-c81b-45f0-9382-5c16761d0be4",
   "metadata": {},
   "source": [
    "Calculating the mean of even array"
   ]
  },
  {
   "cell_type": "code",
   "execution_count": 39,
   "id": "8f9d126e-9826-4752-9e88-7176359e419c",
   "metadata": {},
   "outputs": [
    {
     "data": {
      "text/plain": [
       "57.5"
      ]
     },
     "execution_count": 39,
     "metadata": {},
     "output_type": "execute_result"
    }
   ],
   "source": [
    "even_mean=even_array.mean()\n",
    "even_mean"
   ]
  },
  {
   "cell_type": "markdown",
   "id": "20c3ecd3-6f6d-434f-a75f-9e13060a8214",
   "metadata": {},
   "source": [
    "Converting odd list to array and calculating the mean"
   ]
  },
  {
   "cell_type": "code",
   "execution_count": 47,
   "id": "dd503ba4-b1e4-40c8-911a-384ab18f52f3",
   "metadata": {},
   "outputs": [
    {
     "data": {
      "text/plain": [
       "41.07692307692308"
      ]
     },
     "execution_count": 47,
     "metadata": {},
     "output_type": "execute_result"
    }
   ],
   "source": [
    "odd_array=np.array(odd)\n",
    "odd_mean=odd_array.mean()\n",
    "odd_mean"
   ]
  },
  {
   "cell_type": "markdown",
   "id": "3731f634-0fe9-40af-90f2-c6198db8dd5a",
   "metadata": {},
   "source": [
    "Finding the median of even array"
   ]
  },
  {
   "cell_type": "code",
   "execution_count": 45,
   "id": "7569e847-a898-4360-9352-a35fc5ac023e",
   "metadata": {},
   "outputs": [
    {
     "name": "stdout",
     "output_type": "stream",
     "text": [
      "53.0\n"
     ]
    }
   ],
   "source": [
    "sorted_even = sorted(even)\n",
    "\n",
    "# Calculate the median\n",
    "n = len(sorted_even)\n",
    "if n % 2 == 1:\n",
    "    # If the list has an odd number of elements, return the middle element\n",
    "    median = sorted_even[n // 2]\n",
    "else:\n",
    "    # If the list has an even number of elements, return the average of the two middle elements\n",
    "    median = (sorted_even[(n // 2) - 1] + sorted_even[n // 2]) / 2\n",
    "\n",
    "print(median)"
   ]
  },
  {
   "cell_type": "markdown",
   "id": "f7e005f4-7ab5-4295-ac0d-aa9d72de380f",
   "metadata": {},
   "source": [
    "Finding the median of odd array"
   ]
  },
  {
   "cell_type": "code",
   "execution_count": 49,
   "id": "602d2a9f-4a03-41d4-b1c8-e0d26a5dc40c",
   "metadata": {},
   "outputs": [
    {
     "name": "stdout",
     "output_type": "stream",
     "text": [
      "35.0\n"
     ]
    }
   ],
   "source": [
    "sorted_odd = sorted(odd)\n",
    "\n",
    "# Calculate the median\n",
    "n = len(sorted_odd)\n",
    "if n % 2 == 1:\n",
    "    # If the list has an odd number of elements, return the middle element\n",
    "    median = sorted_odd[n // 2]\n",
    "else:\n",
    "    # If the list has an even number of elements, return the average of the two middle elements\n",
    "    median = (sorted_odd[(n // 2) - 1] + sorted_odd[n // 2]) / 2\n",
    "\n",
    "print(median)"
   ]
  },
  {
   "cell_type": "code",
   "execution_count": null,
   "id": "776e3c0f-11fb-434a-8a95-4d514a2c7a9f",
   "metadata": {},
   "outputs": [],
   "source": []
  }
 ],
 "metadata": {
  "kernelspec": {
   "display_name": "Python 3 (ipykernel)",
   "language": "python",
   "name": "python3"
  },
  "language_info": {
   "codemirror_mode": {
    "name": "ipython",
    "version": 3
   },
   "file_extension": ".py",
   "mimetype": "text/x-python",
   "name": "python",
   "nbconvert_exporter": "python",
   "pygments_lexer": "ipython3",
   "version": "3.12.7"
  }
 },
 "nbformat": 4,
 "nbformat_minor": 5
}
