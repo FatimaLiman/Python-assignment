{
 "cells": [
  {
   "cell_type": "markdown",
   "id": "8fbf6b2f-9f55-408a-9825-a1340ecc1b85",
   "metadata": {},
   "source": [
    "# Day1"
   ]
  },
  {
   "cell_type": "markdown",
   "id": "920db26f-94fe-458e-8280-e27351b38d3e",
   "metadata": {},
   "source": [
    "The purpose of this project is to learn how to use jupiter notebook"
   ]
  },
  {
   "cell_type": "markdown",
   "id": "8173572a-da8a-4e5c-9ab6-6944a85f9d58",
   "metadata": {},
   "source": [
    "# writing list"
   ]
  },
  {
   "cell_type": "markdown",
   "id": "199fed57-00c2-42b9-8645-c3120f888b1f",
   "metadata": {},
   "source": [
    "# My Markdown Example\n",
    "\n",
    "1. First item in numbered list\n",
    "2. Second item in numbered list\n",
    "3. Third item in numbered list\n",
    "\n",
    "- First item in bulleted list\n",
    "- Second item in bulleted list\n",
    "- Third item in bulleted list\n"
   ]
  },
  {
   "cell_type": "code",
   "execution_count": 11,
   "id": "b38fad61-303c-43b8-b4e9-81cf78edad38",
   "metadata": {},
   "outputs": [],
   "source": [
    "# printing hello world"
   ]
  },
  {
   "cell_type": "code",
   "execution_count": 13,
   "id": "2c4d3862-e47e-46ab-9b56-8e2289bf0448",
   "metadata": {},
   "outputs": [
    {
     "name": "stdout",
     "output_type": "stream",
     "text": [
      "Hello, World!\n"
     ]
    }
   ],
   "source": [
    "print(\"Hello, World!\")\n"
   ]
  },
  {
   "cell_type": "code",
   "execution_count": 11,
   "id": "6dbeaf60-dcd8-4239-93a5-033fcea3744f",
   "metadata": {},
   "outputs": [],
   "source": [
    "# opening a picture"
   ]
  },
  {
   "cell_type": "code",
   "execution_count": null,
   "id": "693b140f-24bb-4714-b9ff-7e3b8763512c",
   "metadata": {},
   "outputs": [],
   "source": [
    "!\"C:\\Users\\Ummu Adeel\\Pictures\\ceritifcate.PNG\"\n"
   ]
  },
  {
   "cell_type": "code",
   "execution_count": 11,
   "id": "5a3c524f-ab4e-45cb-8285-2b1026c2524c",
   "metadata": {},
   "outputs": [],
   "source": [
    "# generating a link to click"
   ]
  },
  {
   "cell_type": "markdown",
   "id": "f53d1c72-fd46-48b8-b45f-9d73d8b6b869",
   "metadata": {},
   "source": [
    "[Click here to visit OpenAI](https://www.openai.com)\n",
    "\n"
   ]
  },
  {
   "cell_type": "code",
   "execution_count": 13,
   "id": "8227ee79-ce1f-4fd6-8647-697481c204f2",
   "metadata": {},
   "outputs": [
    {
     "name": "stdout",
     "output_type": "stream",
     "text": [
      "Addition of 10 and 5 is: 15\n",
      "Subtraction of 10 and 5 is: 5\n"
     ]
    }
   ],
   "source": [
    "# Defining two numbers\n",
    "num1 = 10\n",
    "num2 = 5\n",
    "\n",
    "# Performing addition\n",
    "addition = num1 + num2\n",
    "\n",
    "# Performing subtraction\n",
    "subtraction = num1 - num2\n",
    "\n",
    "# Printing results\n",
    "print(f\"Addition of {num1} and {num2} is: {addition}\")\n",
    "print(f\"Subtraction of {num1} and {num2} is: {subtraction}\")\n"
   ]
  },
  {
   "cell_type": "code",
   "execution_count": 5,
   "id": "82c08762-b831-4952-a9f9-5de9da13863e",
   "metadata": {},
   "outputs": [],
   "source": [
    "# this is the help function"
   ]
  },
  {
   "cell_type": "code",
   "execution_count": 15,
   "id": "a7a5ac51-d341-4b60-972b-c2006bb92686",
   "metadata": {},
   "outputs": [
    {
     "name": "stdout",
     "output_type": "stream",
     "text": [
      "Help on built-in function print in module builtins:\n",
      "\n",
      "print(*args, sep=' ', end='\\n', file=None, flush=False)\n",
      "    Prints the values to a stream, or to sys.stdout by default.\n",
      "\n",
      "    sep\n",
      "      string inserted between values, default a space.\n",
      "    end\n",
      "      string appended after the last value, default a newline.\n",
      "    file\n",
      "      a file-like object (stream); defaults to the current sys.stdout.\n",
      "    flush\n",
      "      whether to forcibly flush the stream.\n",
      "\n"
     ]
    }
   ],
   "source": [
    "help(print)\n",
    "\n"
   ]
  },
  {
   "cell_type": "code",
   "execution_count": null,
   "id": "01e7ce2d-8970-4234-bcbe-cf2a4f0a95db",
   "metadata": {},
   "outputs": [],
   "source": [
    "# print function"
   ]
  },
  {
   "cell_type": "code",
   "execution_count": 3,
   "id": "264bf04a-a990-40d9-b19b-f7cd5c10e6d0",
   "metadata": {},
   "outputs": [
    {
     "name": "stdout",
     "output_type": "stream",
     "text": [
      "\n"
     ]
    }
   ],
   "source": [
    "print() "
   ]
  },
  {
   "cell_type": "code",
   "execution_count": 16,
   "id": "d57f67dc-89fd-4c1f-b991-540d8ea6f0f6",
   "metadata": {},
   "outputs": [
    {
     "name": "stdout",
     "output_type": "stream",
     "text": [
      "CPU times: total: 0 ns\n",
      "Wall time: 0 ns\n"
     ]
    }
   ],
   "source": [
    "%time"
   ]
  },
  {
   "cell_type": "code",
   "execution_count": 20,
   "id": "3d613bde-5a5b-45a5-89a6-36147a0a4b74",
   "metadata": {},
   "outputs": [
    {
     "name": "stdout",
     "output_type": "stream",
     "text": [
      "dataframe_columns\t dataframe_hash\t dtypes_str\t get_dataframes\t getpass\t hashlib\t import_pandas_safely\t is_data_frame\t json\t \n",
      "\n"
     ]
    }
   ],
   "source": [
    "%who"
   ]
  },
  {
   "cell_type": "markdown",
   "id": "ddb6c20a-0f9d-4ab3-97fc-2a713b00eca8",
   "metadata": {},
   "source": [
    "| Name      | Age | Profession  |\n",
    "|-----------|-----|-------------|\n",
    "| Fatima Liman  | 24 | Data analyst   |\n"
   ]
  },
  {
   "cell_type": "code",
   "execution_count": 27,
   "id": "185f2612-af9e-4d9c-870e-153d0b143b29",
   "metadata": {},
   "outputs": [],
   "source": [
    "a=42\n",
    "b=3.14\n",
    "c=\"Python\"\n",
    "d=[1, 2, 3]\n",
    "e={ \"name\": \"John\", \"age\": 30 }"
   ]
  },
  {
   "cell_type": "code",
   "execution_count": 31,
   "id": "aeff0810-0474-4170-a5c1-a5ab0b11b272",
   "metadata": {},
   "outputs": [
    {
     "name": "stdout",
     "output_type": "stream",
     "text": [
      "<class 'str'>\n"
     ]
    }
   ],
   "source": [
    "a=str(a)\n",
    "print(type(a))"
   ]
  },
  {
   "cell_type": "code",
   "execution_count": 33,
   "id": "f02549a1-fe42-49e6-a7fc-f944f270feb0",
   "metadata": {},
   "outputs": [
    {
     "name": "stdout",
     "output_type": "stream",
     "text": [
      "<class 'float'>\n"
     ]
    }
   ],
   "source": [
    "a=float(a)\n",
    "print(type(a))"
   ]
  },
  {
   "cell_type": "code",
   "execution_count": 37,
   "id": "54251e39-5ce7-4d74-b8e5-e7926558b5c6",
   "metadata": {},
   "outputs": [],
   "source": [
    "fruits= ['mango','apple','banana','orange','berries']"
   ]
  },
  {
   "cell_type": "code",
   "execution_count": 39,
   "id": "532139bf-e1f3-4a85-8aff-e36e45ad4731",
   "metadata": {},
   "outputs": [
    {
     "name": "stdout",
     "output_type": "stream",
     "text": [
      "<class 'list'>\n"
     ]
    }
   ],
   "source": [
    "\n",
    "print(type(fruits))"
   ]
  },
  {
   "cell_type": "code",
   "execution_count": 45,
   "id": "9a87e35f-3a85-496b-9b3e-b02072f548d2",
   "metadata": {},
   "outputs": [
    {
     "data": {
      "text/plain": [
       "True"
      ]
     },
     "execution_count": 45,
     "metadata": {},
     "output_type": "execute_result"
    }
   ],
   "source": [
    "isinstance(c, str)"
   ]
  },
  {
   "cell_type": "code",
   "execution_count": 47,
   "id": "51a573d6-f255-4794-b477-8b99f0783dde",
   "metadata": {},
   "outputs": [
    {
     "name": "stdout",
     "output_type": "stream",
     "text": [
      "The second element is: Hello\n"
     ]
    }
   ],
   "source": [
    "# Create a tuple with three different data types\n",
    "my_tuple = (42, \"Hello\", 3.14)\n",
    "\n",
    "# Access the second element (index 1)\n",
    "second_element = my_tuple[1]\n",
    "\n",
    "# Print the second element\n",
    "print(\"The second element is:\", second_element)\n"
   ]
  },
  {
   "cell_type": "code",
   "execution_count": 49,
   "id": "b2fdb2bb-f314-4f5e-88be-0c2c3b4f0c98",
   "metadata": {},
   "outputs": [
    {
     "name": "stdout",
     "output_type": "stream",
     "text": [
      "The value of the 'age' key is: 30\n"
     ]
    }
   ],
   "source": [
    "# Create a dictionary with three key-value pairs\n",
    "my_dict = {\n",
    "    \"name\": \"Alice\",\n",
    "    \"age\": 30,\n",
    "    \"city\": \"New York\"\n",
    "}\n",
    "\n",
    "# Retrieve the value of a specific key, e.g., \"age\"\n",
    "value_of_key = my_dict[\"age\"]\n",
    "\n",
    "# Print the value\n",
    "print(\"The value of the 'age' key is:\", value_of_key)\n"
   ]
  },
  {
   "cell_type": "code",
   "execution_count": 51,
   "id": "baa7f890-7c51-4160-a3e0-e841994290db",
   "metadata": {},
   "outputs": [
    {
     "name": "stdout",
     "output_type": "stream",
     "text": [
      "<class 'dict'>\n"
     ]
    }
   ],
   "source": [
    "print(type(my_dict))"
   ]
  },
  {
   "cell_type": "code",
   "execution_count": 53,
   "id": "4bfeab26-ad4d-482b-b9bc-7ab9879a8a34",
   "metadata": {},
   "outputs": [
    {
     "name": "stdout",
     "output_type": "stream",
     "text": [
      "<class 'tuple'>\n"
     ]
    }
   ],
   "source": [
    "print(type(my_tuple))"
   ]
  },
  {
   "cell_type": "code",
   "execution_count": 55,
   "id": "6be6552c-cffc-48e9-a929-a6a0cfa49f10",
   "metadata": {},
   "outputs": [
    {
     "name": "stdout",
     "output_type": "stream",
     "text": [
      "Original float value: 10.75\n",
      "Typecasted integer value: 10\n"
     ]
    }
   ],
   "source": [
    "# Define a float value\n",
    "float_value = 10.75\n",
    "\n",
    "# Perform typecasting (float to int)\n",
    "int_value = int(float_value)\n",
    "\n",
    "# Print the original float and the typecasted integer\n",
    "print(\"Original float value:\", float_value)\n",
    "print(\"Typecasted integer value:\", int_value)\n"
   ]
  },
  {
   "cell_type": "code",
   "execution_count": 59,
   "id": "5acf8f29-d7d0-4f9e-97b3-1685c1a2db6a",
   "metadata": {},
   "outputs": [
    {
     "name": "stdin",
     "output_type": "stream",
     "text": [
      "Enter something:  4.9\n"
     ]
    },
    {
     "name": "stdout",
     "output_type": "stream",
     "text": [
      "The input is a number (float).\n"
     ]
    }
   ],
   "source": [
    "# Get input from the user\n",
    "user_input = input(\"Enter something: \")\n",
    "\n",
    "# Check if the input is a number (integer or float)\n",
    "if user_input.isdigit():  # checks if input is a whole number (integer)\n",
    "    print(\"The input is a number (integer).\")\n",
    "else:\n",
    "    try:\n",
    "        # Try to convert the input to a float\n",
    "        float_value = float(user_input)\n",
    "        print(\"The input is a number (float).\")\n",
    "    except ValueError:\n",
    "        # If conversion to float fails, it's a string\n",
    "        print(\"The input is a string.\")\n"
   ]
  },
  {
   "cell_type": "code",
   "execution_count": 63,
   "id": "6a4586f4-3e99-4689-a431-a0698c2b7f10",
   "metadata": {},
   "outputs": [
    {
     "name": "stdout",
     "output_type": "stream",
     "text": [
      "5\n",
      "3\n",
      "3\n"
     ]
    }
   ],
   "source": [
    "list_length = len(fruits)\n",
    "tuple_length = len(my_tuple)\n",
    "dict_length = len(my_dict)\n",
    "print(list_length)\n",
    "print(tuple_length)\n",
    "print(dict_length)"
   ]
  },
  {
   "cell_type": "code",
   "execution_count": 67,
   "id": "48b923c5-9b7c-4719-9d88-4ae87da288ca",
   "metadata": {},
   "outputs": [
    {
     "name": "stdout",
     "output_type": "stream",
     "text": [
      "10\n"
     ]
    }
   ],
   "source": [
    "x=3 \n",
    "y=5\n",
    "z=2\n",
    "solution = x + y + z\n",
    "print(solution)"
   ]
  },
  {
   "cell_type": "code",
   "execution_count": 75,
   "id": "861bcc52-9d9d-4326-b0ef-45c940084823",
   "metadata": {},
   "outputs": [
    {
     "name": "stdout",
     "output_type": "stream",
     "text": [
      "Before swapping:\n",
      "a = 5\n",
      "b = 10\n",
      "b = 15\n",
      "After swapping:\n",
      "a = 10\n",
      "b = 15\n",
      "b = 5\n"
     ]
    }
   ],
   "source": [
    "# Define two variables\n",
    "a = 5\n",
    "b = 10\n",
    "c= 15\n",
    "\n",
    "# Print the original values\n",
    "print(\"Before swapping:\")\n",
    "print(\"a =\", a)\n",
    "print(\"b =\", b)\n",
    "print(\"b =\", c)\n",
    "# Swap the values of a and b\n",
    "a, b, c = b, c,a\n",
    "\n",
    "# Print the values after swapping\n",
    "print(\"After swapping:\")\n",
    "print(\"a =\", a)\n",
    "print(\"b =\", b)\n",
    "print(\"b =\", c)"
   ]
  },
  {
   "cell_type": "code",
   "execution_count": 77,
   "id": "89383127-946d-4ba3-83d8-ea67bfc613a8",
   "metadata": {},
   "outputs": [
    {
     "name": "stdout",
     "output_type": "stream",
     "text": [
      "Hello World!\n"
     ]
    }
   ],
   "source": [
    "# Assign a string to a variable\n",
    "str1 = \"Hello\"\n",
    "\n",
    "# Concatenate it with another string\n",
    "str2 = \" World!\"\n",
    "\n",
    "# Perform concatenation\n",
    "result = str1 + str2\n",
    "\n",
    "# Print the concatenated result\n",
    "print(result)\n"
   ]
  },
  {
   "cell_type": "code",
   "execution_count": 79,
   "id": "79b8e021-6ad4-4214-96ea-9c259a7db74e",
   "metadata": {},
   "outputs": [
    {
     "name": "stdout",
     "output_type": "stream",
     "text": [
      "0\n"
     ]
    }
   ],
   "source": [
    "x = 5 +4-1*9\n",
    "print(x)"
   ]
  },
  {
   "cell_type": "code",
   "execution_count": 81,
   "id": "3beebbb0-1310-4937-9ef2-9c745a8460fe",
   "metadata": {},
   "outputs": [
    {
     "name": "stdout",
     "output_type": "stream",
     "text": [
      "The value of x after x += 5 is: 15\n",
      "The value of y after y *= 2 is: 10\n",
      "The value of z after z += ' World!' is: Hello World!\n"
     ]
    }
   ],
   "source": [
    "# Initialize variables\n",
    "x = 10\n",
    "y = 5\n",
    "z = \"Hello\"\n",
    "\n",
    "# Use the += compound assignment operator (addition)\n",
    "x += 5  # Equivalent to x = x + 5\n",
    "\n",
    "# Use the *= compound assignment operator (multiplication)\n",
    "y *= 2  # Equivalent to y = y * 2\n",
    "\n",
    "# Use the += operator to concatenate strings\n",
    "z += \" World!\"  # Equivalent to z = z + \" World!\"\n",
    "\n",
    "# Print the results\n",
    "print(\"The value of x after x += 5 is:\", x)\n",
    "print(\"The value of y after y *= 2 is:\", y)\n",
    "print(\"The value of z after z += ' World!' is:\", z)\n"
   ]
  },
  {
   "cell_type": "code",
   "execution_count": 83,
   "id": "ce770b98-47a3-4614-8648-b6b5ccb336da",
   "metadata": {},
   "outputs": [
    {
     "name": "stdout",
     "output_type": "stream",
     "text": [
      "The area of the circle is: 78.53981633974483\n"
     ]
    }
   ],
   "source": [
    "import math\n",
    "\n",
    "# Define the radius\n",
    "radius = 5\n",
    "\n",
    "# Calculate the area of the circle\n",
    "area = math.pi * radius ** 2\n",
    "\n",
    "# Print the area\n",
    "print(\"The area of the circle is:\", area)\n",
    "\n"
   ]
  },
  {
   "cell_type": "code",
   "execution_count": 85,
   "id": "b2373889-1d02-47b4-878b-498443d2ced4",
   "metadata": {},
   "outputs": [
    {
     "name": "stdout",
     "output_type": "stream",
     "text": [
      "The roots are real and distinct:\n",
      "Root 1: 2.0\n",
      "Root 2: 1.0\n"
     ]
    }
   ],
   "source": [
    "import math\n",
    "\n",
    "# Define the coefficients of the quadratic equation\n",
    "a = 1\n",
    "b = -3\n",
    "c = 2\n",
    "\n",
    "# Calculate the discriminant\n",
    "discriminant = b ** 2 - 4 * a * c\n",
    "\n",
    "# Check the discriminant to determine the nature of the roots\n",
    "if discriminant > 0:\n",
    "    # Two real and distinct roots\n",
    "    root1 = (-b + math.sqrt(discriminant)) / (2 * a)\n",
    "    root2 = (-b - math.sqrt(discriminant)) / (2 * a)\n",
    "    print(\"The roots are real and distinct:\")\n",
    "    print(\"Root 1:\", root1)\n",
    "    print(\"Root 2:\", root2)\n",
    "elif discriminant == 0:\n",
    "    # One real root (repeated)\n",
    "    root = -b / (2 * a)\n",
    "    print(\"There is one real root (repeated):\")\n",
    "    print(\"Root:\", root)\n",
    "else:\n",
    "    # Complex roots\n",
    "    real_part = -b / (2 * a)\n",
    "    imaginary_part = math.sqrt(-discriminant) / (2 * a)\n",
    "    print(\"The roots are complex:\")\n",
    "    print(\"Root 1:\", real_part, \"+\", imaginary_part, \"i\")\n",
    "    print(\"Root 2:\", real_part, \"-\", imaginary_part, \"i\")\n"
   ]
  },
  {
   "cell_type": "code",
   "execution_count": 87,
   "id": "bb2e5e8c-dd56-47b6-a2bc-57009c327014",
   "metadata": {},
   "outputs": [
    {
     "name": "stdout",
     "output_type": "stream",
     "text": [
      "The memory location of my_variable is: 140713216454360\n"
     ]
    }
   ],
   "source": [
    "# Assign a value to a variable\n",
    "my_variable = 42\n",
    "\n",
    "# Get and print the memory location of the variable\n",
    "print(\"The memory location of my_variable is:\", id(my_variable))\n"
   ]
  },
  {
   "cell_type": "code",
   "execution_count": 89,
   "id": "870255bc-4348-46e4-94be-a081cb5f1920",
   "metadata": {},
   "outputs": [
    {
     "name": "stdout",
     "output_type": "stream",
     "text": [
      "Hello, Alice! Welcome to the Python world.\n"
     ]
    }
   ],
   "source": [
    "# Create a variable to store the person's name\n",
    "person_name = \"Alice\"\n",
    "\n",
    "# Print a greeting using the person's name\n",
    "print(\"Hello, \" + person_name + \"! Welcome to the Python world.\")\n"
   ]
  },
  {
   "cell_type": "code",
   "execution_count": 91,
   "id": "2daea996-c507-4377-bf28-42e3ac325fa4",
   "metadata": {},
   "outputs": [
    {
     "name": "stdout",
     "output_type": "stream",
     "text": [
      "The result of the expression is: False\n"
     ]
    }
   ],
   "source": [
    "# Define two variables\n",
    "a = 10\n",
    "b = 5\n",
    "c = 20\n",
    "\n",
    "# Use both arithmetic and logical operators in an expression\n",
    "result = (a + b > c) and (a * b == 50)\n",
    "\n",
    "# Print the result\n",
    "print(\"The result of the expression is:\", result)\n"
   ]
  },
  {
   "cell_type": "code",
   "execution_count": 93,
   "id": "ab3f14db-8237-499e-a68d-94d9ac9f8f79",
   "metadata": {},
   "outputs": [
    {
     "name": "stdout",
     "output_type": "stream",
     "text": [
      "The result of (a + b)^2 is: 49\n"
     ]
    }
   ],
   "source": [
    "# Assign values to the variables a and b\n",
    "a = 3\n",
    "b = 4\n",
    "\n",
    "# Calculate (a + b)^2 using the expanded formula\n",
    "result = a**2 + 2*a*b + b**2\n",
    "\n",
    "# Print the result\n",
    "print(\"The result of (a + b)^2 is:\", result)\n"
   ]
  },
  {
   "cell_type": "code",
   "execution_count": null,
   "id": "b294845c-e8b0-4e46-ae65-738c31f5a607",
   "metadata": {},
   "outputs": [],
   "source": []
  }
 ],
 "metadata": {
  "kernelspec": {
   "display_name": "Python 3 (ipykernel)",
   "language": "python",
   "name": "python3"
  },
  "language_info": {
   "codemirror_mode": {
    "name": "ipython",
    "version": 3
   },
   "file_extension": ".py",
   "mimetype": "text/x-python",
   "name": "python",
   "nbconvert_exporter": "python",
   "pygments_lexer": "ipython3",
   "version": "3.12.7"
  }
 },
 "nbformat": 4,
 "nbformat_minor": 5
}
