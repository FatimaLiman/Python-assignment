{
 "cells": [
  {
   "cell_type": "code",
   "execution_count": 1,
   "id": "5d0d4345-0f2e-4c93-95ca-6fd8c65f3eb8",
   "metadata": {},
   "outputs": [],
   "source": [
    "import requests"
   ]
  },
  {
   "cell_type": "code",
   "execution_count": 9,
   "id": "a0b023bf-743e-4d5d-bff5-fcea2a1b2fb1",
   "metadata": {},
   "outputs": [
    {
     "data": {
      "text/plain": [
       "<Response [200]>"
      ]
     },
     "execution_count": 9,
     "metadata": {},
     "output_type": "execute_result"
    }
   ],
   "source": [
    "response = requests.get('https://quotes.toscrape.com/')\n",
    "response"
   ]
  },
  {
   "cell_type": "code",
   "execution_count": 11,
   "id": "68b9e218-0017-447a-a60c-7445ef12d0df",
   "metadata": {},
   "outputs": [
    {
     "name": "stdout",
     "output_type": "stream",
     "text": [
      "response succesful\n"
     ]
    }
   ],
   "source": [
    "if response.status_code == 200:\n",
    "    print('response succesful')\n",
    "else:\n",
    "    print('response not succesful')"
   ]
  },
  {
   "cell_type": "code",
   "execution_count": 15,
   "id": "999b1623-bd11-47d3-9512-a64833ec1680",
   "metadata": {},
   "outputs": [],
   "source": [
    "from bs4 import BeautifulSoup"
   ]
  },
  {
   "cell_type": "code",
   "execution_count": 21,
   "id": "8aa10611-143b-4871-a429-fe87bee5af57",
   "metadata": {},
   "outputs": [],
   "source": [
    "page = BeautifulSoup(response.text,'html.parser')"
   ]
  },
  {
   "cell_type": "code",
   "execution_count": 37,
   "id": "29b35f30-5646-4374-8017-672c676c9047",
   "metadata": {},
   "outputs": [],
   "source": [
    "quotes = page.find_all('span', class_='text')"
   ]
  },
  {
   "cell_type": "code",
   "execution_count": 39,
   "id": "d90aca80-74f4-4142-b2b1-a480633e1c61",
   "metadata": {},
   "outputs": [
    {
     "data": {
      "text/plain": [
       "[<span class=\"text\" itemprop=\"text\">“The world as we have created it is a process of our thinking. It cannot be changed without changing our thinking.”</span>,\n",
       " <span class=\"text\" itemprop=\"text\">“It is our choices, Harry, that show what we truly are, far more than our abilities.”</span>,\n",
       " <span class=\"text\" itemprop=\"text\">“There are only two ways to live your life. One is as though nothing is a miracle. The other is as though everything is a miracle.”</span>,\n",
       " <span class=\"text\" itemprop=\"text\">“The person, be it gentleman or lady, who has not pleasure in a good novel, must be intolerably stupid.”</span>,\n",
       " <span class=\"text\" itemprop=\"text\">“Imperfection is beauty, madness is genius and it's better to be absolutely ridiculous than absolutely boring.”</span>,\n",
       " <span class=\"text\" itemprop=\"text\">“Try not to become a man of success. Rather become a man of value.”</span>,\n",
       " <span class=\"text\" itemprop=\"text\">“It is better to be hated for what you are than to be loved for what you are not.”</span>,\n",
       " <span class=\"text\" itemprop=\"text\">“I have not failed. I've just found 10,000 ways that won't work.”</span>,\n",
       " <span class=\"text\" itemprop=\"text\">“A woman is like a tea bag; you never know how strong it is until it's in hot water.”</span>,\n",
       " <span class=\"text\" itemprop=\"text\">“A day without sunshine is like, you know, night.”</span>]"
      ]
     },
     "execution_count": 39,
     "metadata": {},
     "output_type": "execute_result"
    }
   ],
   "source": [
    "quotes"
   ]
  },
  {
   "cell_type": "code",
   "execution_count": 33,
   "id": "cb4f41b3-72c9-4850-a5f9-8092eb8650b5",
   "metadata": {},
   "outputs": [],
   "source": [
    "author = page.find_all('small', class_='author')"
   ]
  },
  {
   "cell_type": "code",
   "execution_count": 35,
   "id": "40f0698c-00cf-42c1-9e4f-084240a0b9a3",
   "metadata": {},
   "outputs": [
    {
     "data": {
      "text/plain": [
       "[<small class=\"author\" itemprop=\"author\">Albert Einstein</small>,\n",
       " <small class=\"author\" itemprop=\"author\">J.K. Rowling</small>,\n",
       " <small class=\"author\" itemprop=\"author\">Albert Einstein</small>,\n",
       " <small class=\"author\" itemprop=\"author\">Jane Austen</small>,\n",
       " <small class=\"author\" itemprop=\"author\">Marilyn Monroe</small>,\n",
       " <small class=\"author\" itemprop=\"author\">Albert Einstein</small>,\n",
       " <small class=\"author\" itemprop=\"author\">André Gide</small>,\n",
       " <small class=\"author\" itemprop=\"author\">Thomas A. Edison</small>,\n",
       " <small class=\"author\" itemprop=\"author\">Eleanor Roosevelt</small>,\n",
       " <small class=\"author\" itemprop=\"author\">Steve Martin</small>]"
      ]
     },
     "execution_count": 35,
     "metadata": {},
     "output_type": "execute_result"
    }
   ],
   "source": [
    "author"
   ]
  },
  {
   "cell_type": "code",
   "execution_count": 51,
   "id": "f74a9f47-a1d3-446e-9a55-6267b3b2e7f6",
   "metadata": {},
   "outputs": [
    {
     "data": {
      "text/plain": [
       "<zip at 0x1fe919d1380>"
      ]
     },
     "execution_count": 51,
     "metadata": {},
     "output_type": "execute_result"
    }
   ],
   "source": [
    "combine = zip(quotes,author)\n",
    "combine"
   ]
  },
  {
   "cell_type": "code",
   "execution_count": 73,
   "id": "2910b5ce-aebd-4bdf-9dad-0a09895b52b1",
   "metadata": {},
   "outputs": [
    {
     "name": "stdout",
     "output_type": "stream",
     "text": [
      "“The world as we have created it is a process of our thinking. It cannot be changed without changing our thinking.”-Albert Einstein\n",
      "“It is our choices, Harry, that show what we truly are, far more than our abilities.”-J.K. Rowling\n",
      "“There are only two ways to live your life. One is as though nothing is a miracle. The other is as though everything is a miracle.”-Albert Einstein\n",
      "“The person, be it gentleman or lady, who has not pleasure in a good novel, must be intolerably stupid.”-Jane Austen\n",
      "“Imperfection is beauty, madness is genius and it's better to be absolutely ridiculous than absolutely boring.”-Marilyn Monroe\n",
      "“Try not to become a man of success. Rather become a man of value.”-Albert Einstein\n",
      "“It is better to be hated for what you are than to be loved for what you are not.”-André Gide\n",
      "“I have not failed. I've just found 10,000 ways that won't work.”-Thomas A. Edison\n",
      "“A woman is like a tea bag; you never know how strong it is until it's in hot water.”-Eleanor Roosevelt\n",
      "“A day without sunshine is like, you know, night.”-Steve Martin\n"
     ]
    }
   ],
   "source": [
    "for i,j in zip(quotes,author):\n",
    "    print(i.text +'-'+ j.text)"
   ]
  },
  {
   "cell_type": "code",
   "execution_count": null,
   "id": "363bb6a0-4e25-496e-aed6-b529c8dffddb",
   "metadata": {},
   "outputs": [],
   "source": []
  }
 ],
 "metadata": {
  "kernelspec": {
   "display_name": "Python 3 (ipykernel)",
   "language": "python",
   "name": "python3"
  },
  "language_info": {
   "codemirror_mode": {
    "name": "ipython",
    "version": 3
   },
   "file_extension": ".py",
   "mimetype": "text/x-python",
   "name": "python",
   "nbconvert_exporter": "python",
   "pygments_lexer": "ipython3",
   "version": "3.12.7"
  }
 },
 "nbformat": 4,
 "nbformat_minor": 5
}
