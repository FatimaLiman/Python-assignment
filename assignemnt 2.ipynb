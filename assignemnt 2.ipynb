{
 "cells": [
  {
   "cell_type": "code",
   "execution_count": 1,
   "id": "5d0d4345-0f2e-4c93-95ca-6fd8c65f3eb8",
   "metadata": {},
   "outputs": [
    {
     "data": {
      "text/plain": [
       "{'product1': 20, 'product2': 70, 'product3': 100, 'product4': 120}"
      ]
     },
     "execution_count": 1,
     "metadata": {},
     "output_type": "execute_result"
    }
   ],
   "source": [
    "sales = {'product1': 20,'product2': 70,'product3': 100,'product4': 120}\n",
    "sales"
   ]
  },
  {
   "cell_type": "code",
   "execution_count": 3,
   "id": "886b2ed7-d32f-4ece-bba3-02cd8d64086e",
   "metadata": {},
   "outputs": [
    {
     "data": {
      "text/plain": [
       "100"
      ]
     },
     "execution_count": 3,
     "metadata": {},
     "output_type": "execute_result"
    }
   ],
   "source": [
    "sales['product3']"
   ]
  },
  {
   "cell_type": "code",
   "execution_count": 19,
   "id": "c7470094-2557-43d4-b295-6efcdcccba01",
   "metadata": {},
   "outputs": [
    {
     "data": {
      "text/plain": [
       "product1     20\n",
       "product2     60\n",
       "product3    100\n",
       "product4    120\n",
       "dtype: int64"
      ]
     },
     "execution_count": 19,
     "metadata": {},
     "output_type": "execute_result"
    }
   ],
   "source": [
    "import pandas as pd\n",
    "sales_series=pd.Series(sales)\n",
    "sales_series"
   ]
  },
  {
   "cell_type": "code",
   "execution_count": 21,
   "id": "4cbccc04-cf7d-49a8-b76c-00f0a5619c6f",
   "metadata": {},
   "outputs": [
    {
     "data": {
      "text/plain": [
       "product2     60\n",
       "product3    100\n",
       "product4    120\n",
       "dtype: int64"
      ]
     },
     "execution_count": 21,
     "metadata": {},
     "output_type": "execute_result"
    }
   ],
   "source": [
    "sales_series[sales_series>50]"
   ]
  },
  {
   "cell_type": "code",
   "execution_count": 23,
   "id": "e1dfde9b-bffc-4644-8336-3a6bfc4e3021",
   "metadata": {},
   "outputs": [
    {
     "data": {
      "text/plain": [
       "{'product1': 20, 'product2': 60, 'product3': 100, 'product4': 120}"
      ]
     },
     "execution_count": 23,
     "metadata": {},
     "output_type": "execute_result"
    }
   ],
   "source": [
    "sales['product2']= 60\n",
    "sales"
   ]
  },
  {
   "cell_type": "code",
   "execution_count": 15,
   "id": "32384826-d759-41ab-86d9-dab3d15ccbe3",
   "metadata": {},
   "outputs": [
    {
     "data": {
      "text/plain": [
       "'index not found'"
      ]
     },
     "execution_count": 15,
     "metadata": {},
     "output_type": "execute_result"
    }
   ],
   "source": [
    "sales.get('product 5', 'index not found')"
   ]
  },
  {
   "cell_type": "code",
   "execution_count": null,
   "id": "c485ab6f-fd3d-44cb-a520-322496ac79c2",
   "metadata": {},
   "outputs": [],
   "source": []
  }
 ],
 "metadata": {
  "kernelspec": {
   "display_name": "Python 3 (ipykernel)",
   "language": "python",
   "name": "python3"
  },
  "language_info": {
   "codemirror_mode": {
    "name": "ipython",
    "version": 3
   },
   "file_extension": ".py",
   "mimetype": "text/x-python",
   "name": "python",
   "nbconvert_exporter": "python",
   "pygments_lexer": "ipython3",
   "version": "3.12.7"
  }
 },
 "nbformat": 4,
 "nbformat_minor": 5
}
